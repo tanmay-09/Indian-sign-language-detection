{
 "cells": [
  {
   "cell_type": "code",
   "execution_count": 1,
   "metadata": {},
   "outputs": [],
   "source": [
    "\n",
    "from tensorflow.keras.layers import Input, Lambda, Dense, Flatten,Conv2D\n",
    "from tensorflow.keras.models import Model\n",
    "from tensorflow.keras.applications.vgg19 import VGG19\n",
    "from tensorflow.keras.applications.resnet50 import preprocess_input\n",
    "from tensorflow.keras.preprocessing import image\n",
    "from tensorflow.keras.preprocessing.image import ImageDataGenerator,load_img\n",
    "from tensorflow.keras.models import Sequential\n",
    "import numpy as np\n",
    "from glob import glob\n",
    "import matplotlib.pyplot as plt"
   ]
  },
  {
   "cell_type": "code",
   "execution_count": 2,
   "metadata": {},
   "outputs": [],
   "source": [
    "# re-size all the images to this\n",
    "IMAGE_SIZE = [224, 224]\n",
    "\n",
    "train_path = 'D:\\archive\\data'"
   ]
  },
  {
   "cell_type": "code",
   "execution_count": 3,
   "metadata": {},
   "outputs": [],
   "source": [
    "mobilnet = VGG19(input_shape=IMAGE_SIZE + [3], weights='imagenet', include_top=False)\n"
   ]
  },
  {
   "cell_type": "code",
   "execution_count": 4,
   "metadata": {},
   "outputs": [
    {
     "data": {
      "text/plain": [
       "['D:\\\\archive\\\\data\\\\1',\n",
       " 'D:\\\\archive\\\\data\\\\2',\n",
       " 'D:\\\\archive\\\\data\\\\3',\n",
       " 'D:\\\\archive\\\\data\\\\4',\n",
       " 'D:\\\\archive\\\\data\\\\5',\n",
       " 'D:\\\\archive\\\\data\\\\6',\n",
       " 'D:\\\\archive\\\\data\\\\7',\n",
       " 'D:\\\\archive\\\\data\\\\8',\n",
       " 'D:\\\\archive\\\\data\\\\9',\n",
       " 'D:\\\\archive\\\\data\\\\A',\n",
       " 'D:\\\\archive\\\\data\\\\B',\n",
       " 'D:\\\\archive\\\\data\\\\C',\n",
       " 'D:\\\\archive\\\\data\\\\D',\n",
       " 'D:\\\\archive\\\\data\\\\E',\n",
       " 'D:\\\\archive\\\\data\\\\F',\n",
       " 'D:\\\\archive\\\\data\\\\G',\n",
       " 'D:\\\\archive\\\\data\\\\H',\n",
       " 'D:\\\\archive\\\\data\\\\I',\n",
       " 'D:\\\\archive\\\\data\\\\J',\n",
       " 'D:\\\\archive\\\\data\\\\K',\n",
       " 'D:\\\\archive\\\\data\\\\L',\n",
       " 'D:\\\\archive\\\\data\\\\M',\n",
       " 'D:\\\\archive\\\\data\\\\N',\n",
       " 'D:\\\\archive\\\\data\\\\O',\n",
       " 'D:\\\\archive\\\\data\\\\P',\n",
       " 'D:\\\\archive\\\\data\\\\Q',\n",
       " 'D:\\\\archive\\\\data\\\\R',\n",
       " 'D:\\\\archive\\\\data\\\\S',\n",
       " 'D:\\\\archive\\\\data\\\\T',\n",
       " 'D:\\\\archive\\\\data\\\\U',\n",
       " 'D:\\\\archive\\\\data\\\\V',\n",
       " 'D:\\\\archive\\\\data\\\\W',\n",
       " 'D:\\\\archive\\\\data\\\\X',\n",
       " 'D:\\\\archive\\\\data\\\\Y',\n",
       " 'D:\\\\archive\\\\data\\\\Z']"
      ]
     },
     "execution_count": 4,
     "metadata": {},
     "output_type": "execute_result"
    }
   ],
   "source": [
    "folders = glob(r'D:\\archive\\data\\*')\n",
    "folders"
   ]
  },
  {
   "cell_type": "code",
   "execution_count": 5,
   "metadata": {},
   "outputs": [],
   "source": [
    "x = Flatten()(mobilnet.output)\n"
   ]
  },
  {
   "cell_type": "code",
   "execution_count": 6,
   "metadata": {},
   "outputs": [],
   "source": [
    "prediction = Dense(len(folders), activation='softmax')(x)\n",
    "\n",
    "# create a model object\n",
    "model = Model(inputs=mobilnet.input, outputs=prediction)\n"
   ]
  },
  {
   "cell_type": "code",
   "execution_count": 7,
   "metadata": {},
   "outputs": [
    {
     "name": "stdout",
     "output_type": "stream",
     "text": [
      "Model: \"functional_1\"\n",
      "_________________________________________________________________\n",
      "Layer (type)                 Output Shape              Param #   \n",
      "=================================================================\n",
      "input_1 (InputLayer)         [(None, 224, 224, 3)]     0         \n",
      "_________________________________________________________________\n",
      "block1_conv1 (Conv2D)        (None, 224, 224, 64)      1792      \n",
      "_________________________________________________________________\n",
      "block1_conv2 (Conv2D)        (None, 224, 224, 64)      36928     \n",
      "_________________________________________________________________\n",
      "block1_pool (MaxPooling2D)   (None, 112, 112, 64)      0         \n",
      "_________________________________________________________________\n",
      "block2_conv1 (Conv2D)        (None, 112, 112, 128)     73856     \n",
      "_________________________________________________________________\n",
      "block2_conv2 (Conv2D)        (None, 112, 112, 128)     147584    \n",
      "_________________________________________________________________\n",
      "block2_pool (MaxPooling2D)   (None, 56, 56, 128)       0         \n",
      "_________________________________________________________________\n",
      "block3_conv1 (Conv2D)        (None, 56, 56, 256)       295168    \n",
      "_________________________________________________________________\n",
      "block3_conv2 (Conv2D)        (None, 56, 56, 256)       590080    \n",
      "_________________________________________________________________\n",
      "block3_conv3 (Conv2D)        (None, 56, 56, 256)       590080    \n",
      "_________________________________________________________________\n",
      "block3_conv4 (Conv2D)        (None, 56, 56, 256)       590080    \n",
      "_________________________________________________________________\n",
      "block3_pool (MaxPooling2D)   (None, 28, 28, 256)       0         \n",
      "_________________________________________________________________\n",
      "block4_conv1 (Conv2D)        (None, 28, 28, 512)       1180160   \n",
      "_________________________________________________________________\n",
      "block4_conv2 (Conv2D)        (None, 28, 28, 512)       2359808   \n",
      "_________________________________________________________________\n",
      "block4_conv3 (Conv2D)        (None, 28, 28, 512)       2359808   \n",
      "_________________________________________________________________\n",
      "block4_conv4 (Conv2D)        (None, 28, 28, 512)       2359808   \n",
      "_________________________________________________________________\n",
      "block4_pool (MaxPooling2D)   (None, 14, 14, 512)       0         \n",
      "_________________________________________________________________\n",
      "block5_conv1 (Conv2D)        (None, 14, 14, 512)       2359808   \n",
      "_________________________________________________________________\n",
      "block5_conv2 (Conv2D)        (None, 14, 14, 512)       2359808   \n",
      "_________________________________________________________________\n",
      "block5_conv3 (Conv2D)        (None, 14, 14, 512)       2359808   \n",
      "_________________________________________________________________\n",
      "block5_conv4 (Conv2D)        (None, 14, 14, 512)       2359808   \n",
      "_________________________________________________________________\n",
      "block5_pool (MaxPooling2D)   (None, 7, 7, 512)         0         \n",
      "_________________________________________________________________\n",
      "flatten (Flatten)            (None, 25088)             0         \n",
      "_________________________________________________________________\n",
      "dense (Dense)                (None, 35)                878115    \n",
      "=================================================================\n",
      "Total params: 20,902,499\n",
      "Trainable params: 20,902,499\n",
      "Non-trainable params: 0\n",
      "_________________________________________________________________\n"
     ]
    }
   ],
   "source": [
    "model.summary()\n"
   ]
  },
  {
   "cell_type": "code",
   "execution_count": 8,
   "metadata": {},
   "outputs": [
    {
     "name": "stdout",
     "output_type": "stream",
     "text": [
      "Model: \"sequential\"\n",
      "_________________________________________________________________\n",
      "Layer (type)                 Output Shape              Param #   \n",
      "=================================================================\n",
      "conv2d (Conv2D)              (None, 224, 224, 16)      208       \n",
      "_________________________________________________________________\n",
      "max_pooling2d (MaxPooling2D) (None, 112, 112, 16)      0         \n",
      "_________________________________________________________________\n",
      "conv2d_1 (Conv2D)            (None, 112, 112, 32)      2080      \n",
      "_________________________________________________________________\n",
      "max_pooling2d_1 (MaxPooling2 (None, 56, 56, 32)        0         \n",
      "_________________________________________________________________\n",
      "conv2d_2 (Conv2D)            (None, 56, 56, 64)        8256      \n",
      "_________________________________________________________________\n",
      "max_pooling2d_2 (MaxPooling2 (None, 28, 28, 64)        0         \n",
      "_________________________________________________________________\n",
      "flatten_1 (Flatten)          (None, 50176)             0         \n",
      "_________________________________________________________________\n",
      "dense_1 (Dense)              (None, 500)               25088500  \n",
      "_________________________________________________________________\n",
      "dense_2 (Dense)              (None, 35)                17535     \n",
      "=================================================================\n",
      "Total params: 25,116,579\n",
      "Trainable params: 25,116,579\n",
      "Non-trainable params: 0\n",
      "_________________________________________________________________\n"
     ]
    }
   ],
   "source": [
    "from tensorflow.keras.layers import MaxPooling2D\n",
    "### Create Model from scratch using CNN\n",
    "model=Sequential()\n",
    "model.add(Conv2D(filters=16,kernel_size=2,padding=\"same\",activation=\"relu\",input_shape=(224,224,3)))\n",
    "model.add(MaxPooling2D(pool_size=2))\n",
    "model.add(Conv2D(filters=32,kernel_size=2,padding=\"same\",activation =\"relu\"))\n",
    "model.add(MaxPooling2D(pool_size=2))\n",
    "model.add(Conv2D(filters=64,kernel_size=2,padding=\"same\",activation=\"relu\"))\n",
    "model.add(MaxPooling2D(pool_size=2))\n",
    "model.add(Flatten())\n",
    "model.add(Dense(500,activation=\"relu\"))\n",
    "model.add(Dense(35,activation=\"softmax\"))\n",
    "model.summary()\n"
   ]
  },
  {
   "cell_type": "code",
   "execution_count": 9,
   "metadata": {},
   "outputs": [],
   "source": [
    "# tell the model what cost and optimization method to use\n",
    "model.compile(\n",
    "  loss='categorical_crossentropy',\n",
    "  optimizer='adam',\n",
    "  metrics=['accuracy']\n",
    ")"
   ]
  },
  {
   "cell_type": "code",
   "execution_count": 10,
   "metadata": {},
   "outputs": [],
   "source": [
    "# Use the Image Data Generator to import the images from the dataset\n",
    "from tensorflow.keras.preprocessing.image import ImageDataGenerator\n",
    "\n",
    "train_datagen = ImageDataGenerator(rescale = 1./255,\n",
    "                                   shear_range = 0.2,\n",
    "                                   zoom_range = 0.2,\n",
    "                                   horizontal_flip = True)\n",
    "\n",
    "#test_datagen = ImageDataGenerator(rescale = 1./255)"
   ]
  },
  {
   "cell_type": "code",
   "execution_count": 11,
   "metadata": {},
   "outputs": [
    {
     "name": "stdout",
     "output_type": "stream",
     "text": [
      "Found 42000 images belonging to 35 classes.\n"
     ]
    }
   ],
   "source": [
    "# Make sure you provide the same target size as initialied for the image size\n",
    "training_set = train_datagen.flow_from_directory(r'D:\\archive\\\\data',\n",
    "                                                 target_size = (224, 224),\n",
    "                                                 batch_size = 32,\n",
    "                                                 class_mode = 'categorical')\n"
   ]
  },
  {
   "cell_type": "code",
   "execution_count": 12,
   "metadata": {},
   "outputs": [
    {
     "name": "stdout",
     "output_type": "stream",
     "text": [
      "WARNING:tensorflow:From <ipython-input-12-acc050c47e69>:7: Model.fit_generator (from tensorflow.python.keras.engine.training) is deprecated and will be removed in a future version.\n",
      "Instructions for updating:\n",
      "Please use Model.fit, which supports generators.\n",
      "Epoch 1/20\n",
      "100/100 [==============================] - 170s 2s/step - loss: 0.8052 - accuracy: 0.7944\n",
      "Epoch 2/20\n",
      "100/100 [==============================] - 163s 2s/step - loss: 0.0355 - accuracy: 0.9900\n",
      "Epoch 3/20\n",
      "100/100 [==============================] - 154s 2s/step - loss: 0.0241 - accuracy: 0.9922\n",
      "Epoch 4/20\n",
      "100/100 [==============================] - 150s 2s/step - loss: 0.0305 - accuracy: 0.9912\n",
      "Epoch 5/20\n",
      "100/100 [==============================] - 145s 1s/step - loss: 0.0245 - accuracy: 0.9934\n",
      "Epoch 6/20\n",
      "100/100 [==============================] - 125s 1s/step - loss: 0.0070 - accuracy: 0.9978\n",
      "Epoch 7/20\n",
      "100/100 [==============================] - 118s 1s/step - loss: 0.0108 - accuracy: 0.9962\n",
      "Epoch 8/20\n",
      "100/100 [==============================] - 115s 1s/step - loss: 0.0030 - accuracy: 0.9994\n",
      "Epoch 9/20\n",
      "100/100 [==============================] - 111s 1s/step - loss: 0.0185 - accuracy: 0.9941\n",
      "Epoch 10/20\n",
      "100/100 [==============================] - 115s 1s/step - loss: 0.0232 - accuracy: 0.9947\n",
      "Epoch 11/20\n",
      "100/100 [==============================] - 108s 1s/step - loss: 0.0247 - accuracy: 0.9916\n",
      "Epoch 12/20\n",
      "100/100 [==============================] - 104s 1s/step - loss: 0.0026 - accuracy: 0.9991\n",
      "Epoch 13/20\n",
      "100/100 [==============================] - 104s 1s/step - loss: 0.0133 - accuracy: 0.9959\n",
      "Epoch 14/20\n",
      "100/100 [==============================] - 101s 1s/step - loss: 0.0055 - accuracy: 0.9984\n",
      "Epoch 15/20\n",
      "100/100 [==============================] - 104s 1s/step - loss: 0.0065 - accuracy: 0.9969\n",
      "Epoch 16/20\n",
      "100/100 [==============================] - 105s 1s/step - loss: 0.0028 - accuracy: 0.9991\n",
      "Epoch 17/20\n",
      "100/100 [==============================] - 100s 1s/step - loss: 2.4915e-04 - accuracy: 1.0000\n",
      "Epoch 18/20\n",
      "100/100 [==============================] - 105s 1s/step - loss: 9.1608e-05 - accuracy: 1.0000\n",
      "Epoch 19/20\n",
      "100/100 [==============================] - 103s 1s/step - loss: 0.0043 - accuracy: 0.9991\n",
      "Epoch 20/20\n",
      "100/100 [==============================] - 101s 1s/step - loss: 0.0045 - accuracy: 0.9978\n"
     ]
    }
   ],
   "source": [
    "# fit the model\n",
    "# Run the cell. It will take some time to execute\n",
    "r = model.fit_generator(\n",
    "  training_set,\n",
    "  #validation_data=test_set,\n",
    "  epochs=20,\n",
    "  steps_per_epoch=100\n",
    "  \n",
    ")\n"
   ]
  },
  {
   "cell_type": "code",
   "execution_count": 13,
   "metadata": {},
   "outputs": [
    {
     "data": {
      "image/png": "[encoded data removed]",
      "text/plain": [
       "<Figure size 432x288 with 1 Axes>"
      ]
     },
     "metadata": {
      "needs_background": "light"
     },
     "output_type": "display_data"
    },
    {
     "data": {
      "image/png": "[encoded data removed]",
      "text/plain": [
       "<Figure size 432x288 with 1 Axes>"
      ]
     },
     "metadata": {
      "needs_background": "light"
     },
     "output_type": "display_data"
    },
    {
     "data": {
      "text/plain": [
       "<Figure size 432x288 with 0 Axes>"
      ]
     },
     "metadata": {},
     "output_type": "display_data"
    }
   ],
   "source": [
    "# plot the loss\n",
    "plt.plot(r.history['loss'], label='train loss')\n",
    "#plt.plot(r.history['val_loss'], label='val loss')\n",
    "plt.legend()\n",
    "plt.show()\n",
    "plt.savefig('LossVal_loss')\n",
    "\n",
    "# plot the accuracy\n",
    "plt.plot(r.history['accuracy'], label='train acc')\n",
    "#plt.plot(r.history['val_accuracy'], label='val acc')\n",
    "plt.legend()\n",
    "plt.show()\n",
    "plt.savefig('AccVal_acc')"
   ]
  },
  {
   "cell_type": "code",
   "execution_count": 14,
   "metadata": {},
   "outputs": [],
   "source": [
    "from tensorflow.keras.models import load_model\n",
    "from tensorflow.keras.preprocessing import image\n"
   ]
  },
  {
   "cell_type": "code",
   "execution_count": 30,
   "metadata": {},
   "outputs": [
    {
     "data": {
      "text/plain": [
       "(1, 224, 224, 3)"
      ]
     },
     "execution_count": 30,
     "metadata": {},
     "output_type": "execute_result"
    }
   ],
   "source": [
    "path='D:/archive/data/6/125.jpg'\n",
    "\n",
    "img=image.load_img(path,target_size=(224,224))\n",
    "img=image.img_to_array(img)/255\n",
    "img=np.array([img])\n",
    "img.shape"
   ]
  },
  {
   "cell_type": "code",
   "execution_count": 31,
   "metadata": {},
   "outputs": [
    {
     "data": {
      "text/plain": [
       "array([[1.5702715e-14, 8.1301463e-19, 8.7707356e-08, 4.9731660e-16,\n",
       "        9.5039945e-16, 9.9999988e-01, 5.3141949e-11, 9.5523412e-15,\n",
       "        6.1149992e-16, 1.1258649e-18, 2.1533881e-18, 8.4649430e-14,\n",
       "        2.4392709e-14, 2.1682156e-19, 1.5033225e-13, 1.3299189e-15,\n",
       "        5.9663055e-17, 6.4855816e-18, 1.9078990e-13, 6.1843087e-12,\n",
       "        9.7499385e-20, 3.2335593e-12, 1.1565998e-12, 1.4544259e-14,\n",
       "        3.2537153e-16, 6.7211895e-16, 2.0931106e-11, 3.3309039e-14,\n",
       "        1.3532869e-14, 1.1791147e-12, 5.1948584e-10, 1.4793580e-13,\n",
       "        1.1626974e-20, 4.4169700e-16, 5.5618476e-16]], dtype=float32)"
      ]
     },
     "execution_count": 31,
     "metadata": {},
     "output_type": "execute_result"
    }
   ],
   "source": [
    "model.predict(img)"
   ]
  },
  {
   "cell_type": "code",
   "execution_count": 32,
   "metadata": {},
   "outputs": [],
   "source": [
    "a=np.argmax(model.predict(img), axis=1)"
   ]
  },
  {
   "cell_type": "code",
   "execution_count": 33,
   "metadata": {},
   "outputs": [
    {
     "data": {
      "text/plain": [
       "array([5], dtype=int64)"
      ]
     },
     "execution_count": 33,
     "metadata": {},
     "output_type": "execute_result"
    }
   ],
   "source": [
    "a"
   ]
  },
  {
   "cell_type": "code",
   "execution_count": null,
   "metadata": {},
   "outputs": [],
   "source": [
    "\n"
   ]
  },
  {
   "cell_type": "code",
   "execution_count": null,
   "metadata": {},
   "outputs": [],
   "source": []
  }
 ],
 "metadata": {
  "kernelspec": {
   "display_name": "Python 3",
   "language": "python",
   "name": "python3"
  },
  "language_info": {
   "codemirror_mode": {
    "name": "ipython",
    "version": 3
   },
   "file_extension": ".py",
   "mimetype": "text/x-python",
   "name": "python",
   "nbconvert_exporter": "python",
   "pygments_lexer": "ipython3",
   "version": "3.7.4"
  }
 },
 "nbformat": 4,
 "nbformat_minor": 2
}
